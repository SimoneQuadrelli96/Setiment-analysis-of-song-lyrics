{
 "cells": [
  {
   "cell_type": "markdown",
   "metadata": {},
   "source": [
    "# Preprocessing\n",
    "\n",
    "* elimina stopword\n",
    "* salva parole, lemma e pos\n",
    "* genera i training set con adj, verb, noun pos raw text e pos lemma"
   ]
  },
  {
   "cell_type": "code",
   "execution_count": 35,
   "metadata": {},
   "outputs": [],
   "source": [
    "import pandas as pd\n",
    "import numpy as np\n",
    "import spacy\n",
    "from tqdm import tqdm_notebook\n",
    "import nltk\n",
    "import re\n",
    "import json\n",
    "from nltk.tokenize import RegexpTokenizer\n",
    "from nltk.corpus import stopwords"
   ]
  },
  {
   "cell_type": "code",
   "execution_count": 36,
   "metadata": {},
   "outputs": [],
   "source": [
    "df = pd.read_csv('data/emobank.csv')\n",
    "nlp = spacy.load('en_core_web_sm')"
   ]
  },
  {
   "cell_type": "code",
   "execution_count": 37,
   "metadata": {},
   "outputs": [
    {
     "name": "stderr",
     "output_type": "stream",
     "text": [
      "/home/simone/anaconda3/lib/python3.7/site-packages/ipykernel_launcher.py:2: TqdmDeprecationWarning:\n",
      "\n",
      "This function will be removed in tqdm==5.0.0\n",
      "Please use `tqdm.notebook.tqdm` instead of `tqdm.tqdm_notebook`\n",
      "\n"
     ]
    },
    {
     "data": {
      "application/vnd.jupyter.widget-view+json": {
       "model_id": "8f4874ee359b43948c5f00cf786ae253",
       "version_major": 2,
       "version_minor": 0
      },
      "text/plain": [
       "HBox(children=(FloatProgress(value=0.0, max=10062.0), HTML(value='')))"
      ]
     },
     "metadata": {},
     "output_type": "display_data"
    },
    {
     "name": "stdout",
     "output_type": "stream",
     "text": [
      "\n"
     ]
    }
   ],
   "source": [
    "docs, ids, splits, Vs, As, Ds = [], [], [], [], [], []\n",
    "data = tqdm_notebook(list(df.iterrows()))\n",
    "for i, row in data:\n",
    "    tokens = []\n",
    "    tokenizer = RegexpTokenizer(r'\\w+')\n",
    "    strs = tokenizer.tokenize(row['text'])\n",
    "    filtered_words = [word for word in strs if word not in stopwords.words('english')]\n",
    "    input_text =\" \".join(filtered_words)\n",
    "    for token in nlp(input_text):\n",
    "        tokens.append((token.text, token.lemma_, token.pos_))\n",
    "    docs.append(tokens)\n",
    "    ids.append([row['id']])\n",
    "    splits.append(row['split'])\n",
    "    Vs.append(row['V'])\n",
    "    As.append(row['A'])\n",
    "    Ds.append(row['D'])"
   ]
  },
  {
   "cell_type": "code",
   "execution_count": 38,
   "metadata": {},
   "outputs": [],
   "source": [
    "raw = []\n",
    "lemma = []\n",
    "for doc in docs:\n",
    "    sentence_raw = []\n",
    "    sentence_lemma = []\n",
    "    for elem in doc:\n",
    "        if elem[2] in ['NOUN','ADJ']:\n",
    "            sentence_raw.append(elem[0]) \n",
    "            sentence_lemma.append(elem[1])\n",
    "    raw.append(\" \".join(sentence_raw))\n",
    "    lemma.append(\" \".join(sentence_lemma))"
   ]
  },
  {
   "cell_type": "code",
   "execution_count": 63,
   "metadata": {},
   "outputs": [],
   "source": [
    "df = pd.DataFrame()\n",
    "df['id'] =ids\n",
    "df['split'] = splits\n",
    "df['V'] = Vs\n",
    "df['A'] = As\n",
    "df['D'] = Ds\n",
    "df['raw'] = raw\n",
    "df['lemma'] = lemma"
   ]
  },
  {
   "cell_type": "code",
   "execution_count": 64,
   "metadata": {},
   "outputs": [],
   "source": [
    "df.to_csv('data/preprocessed_emo.csv', index =False)"
   ]
  }
 ],
 "metadata": {
  "kernelspec": {
   "display_name": "Python 3",
   "language": "python",
   "name": "python3"
  },
  "language_info": {
   "codemirror_mode": {
    "name": "ipython",
    "version": 3
   },
   "file_extension": ".py",
   "mimetype": "text/x-python",
   "name": "python",
   "nbconvert_exporter": "python",
   "pygments_lexer": "ipython3",
   "version": "3.7.6"
  }
 },
 "nbformat": 4,
 "nbformat_minor": 4
}
